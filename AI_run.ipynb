{
 "cells": [
  {
   "cell_type": "markdown",
   "metadata": {},
   "source": [
    "# AI Implementation:"
   ]
  },
  {
   "cell_type": "code",
   "execution_count": 1,
   "metadata": {},
   "outputs": [],
   "source": [
    "import random\n",
    "from SourceCode import MancalaGameAI\n",
    "import numpy as np\n",
    "random.seed(50)"
   ]
  },
  {
   "cell_type": "code",
   "execution_count": 2,
   "metadata": {},
   "outputs": [],
   "source": [
    "class RandomPlayer:\n",
    "    def get_move(self, state):\n",
    "        return state.random_move_generator()"
   ]
  },
  {
   "cell_type": "code",
   "execution_count": 3,
   "metadata": {},
   "outputs": [],
   "source": [
    "#----------------- Minimax / AlphaBeta --------------------\n",
    "def minimax_decision(state, game, depth=5):\n",
    "    player = game.to_move(state)\n",
    "\n",
    "    def max_value(state, current_depth):\n",
    "        # If the game is over or we've reached the depth limit, return\n",
    "        if game.terminal_test(state) or current_depth == depth:\n",
    "            return game.utility(state, player)\n",
    "\n",
    "        v = -np.inf\n",
    "        for a in game.actions(state):\n",
    "            v = max(v, min_value(game.result(state, a), current_depth + 1))\n",
    "        return v\n",
    "\n",
    "    def min_value(state, current_depth):\n",
    "        # If the game is over or we've reached the depth limit, return\n",
    "        if game.terminal_test(state) or current_depth == depth:\n",
    "            return game.utility(state, player)\n",
    "\n",
    "        v = np.inf\n",
    "        for a in game.actions(state):\n",
    "            v = min(v, max_value(game.result(state, a), current_depth + 1))\n",
    "        return v\n",
    "\n",
    "    # Start the minimax search from the root node with depth 0\n",
    "    return max(game.actions(state), key=lambda a: min_value(game.result(state, a), 1))\n",
    "\n",
    "\n",
    "\n",
    "\n",
    "def alpha_beta_cutoff_search(state, game, d=5, cutoff_test=None, eval_fn=None):\n",
    "    #Search game to determine best action; use alpha-beta pruning.\n",
    "    #This version cuts off search and uses an evaluation function.\n",
    "    player = game.to_move(state)\n",
    "\n",
    "    # Functions used by alpha_beta\n",
    "    def max_value(state, alpha, beta, depth):\n",
    "        if cutoff_test(state, depth):\n",
    "            return eval_fn(state)\n",
    "        v = -np.inf\n",
    "        for a in game.actions(state):\n",
    "            v = max(v, min_value(game.result(state, a), alpha, beta, depth + 1))\n",
    "            if v >= beta:\n",
    "                return v\n",
    "            alpha = max(alpha, v)\n",
    "        return v\n",
    "\n",
    "    def min_value(state, alpha, beta, depth):\n",
    "        if cutoff_test(state, depth):\n",
    "            return eval_fn(state)\n",
    "        v = np.inf\n",
    "        for a in game.actions(state):\n",
    "            v = min(v, max_value(game.result(state, a), alpha, beta, depth + 1))\n",
    "            if v <= alpha:\n",
    "                return v\n",
    "            beta = min(beta, v)\n",
    "        return v\n",
    "\n",
    "    # Body of alpha_beta_cutoff_search starts here:\n",
    "    # The default test cuts off at depth d or at a terminal state\n",
    "    cutoff_test = (cutoff_test or (lambda state, depth: depth > d or game.terminal_test(state)))\n",
    "    eval_fn = eval_fn or (lambda state: game.utility(state, player))\n",
    "    best_score = -np.inf\n",
    "    beta = np.inf\n",
    "    best_action = None\n",
    "    for a in game.actions(state):\n",
    "        v = min_value(game.result(state, a), best_score, beta, 1)\n",
    "        if v > best_score:\n",
    "            best_score = v\n",
    "            best_action = a\n",
    "    return best_action"
   ]
  },
  {
   "cell_type": "code",
   "execution_count": 4,
   "metadata": {},
   "outputs": [],
   "source": [
    "# AI player using Minimax\n",
    "class MinimaxAI:\n",
    "    def __init__(self):\n",
    "        self.game_adapter = MancalaGameAI()\n",
    "\n",
    "    def get_move(self, state):\n",
    "        return minimax_decision(state, self.game_adapter, depth=5)\n",
    "\n",
    "\n",
    "# AI player using Alpha-Beta Pruning\n",
    "class AlphaBetaAI:\n",
    "    def __init__(self, depth=5):\n",
    "        self.depth = depth\n",
    "        self.game_adapter = MancalaGameAI()\n",
    "\n",
    "    def get_move(self, state):\n",
    "        return alpha_beta_cutoff_search(state, self.game_adapter, d=self.depth)"
   ]
  },
  {
   "cell_type": "code",
   "execution_count": 5,
   "metadata": {},
   "outputs": [],
   "source": [
    "def play_game_AI(ai_player, opponent):\n",
    "    game = MancalaGameAI()\n",
    "    \n",
    "    state = game.initial\n",
    "    \n",
    "    count = 0\n",
    "\n",
    "    while not game.terminal_test(state):\n",
    "        # game.display(state)\n",
    "        if game.to_move(state) == 1:\n",
    "            move = ai_player.get_move(state)\n",
    "        else:\n",
    "            move = opponent.get_move(state)\n",
    "        state = game.result(state, move)\n",
    "        count += 0.5\n",
    "\n",
    "    # game.display(state)\n",
    "    winner_score = game.utility(state, 1)\n",
    "    if winner_score > 0:\n",
    "        # print(\"AI wins\")\n",
    "        return 1, count\n",
    "    elif winner_score < 0:\n",
    "        # print(\"Opponent wins\")\n",
    "        return 2, count\n",
    "    else:\n",
    "        # print(\"Tie\")\n",
    "        return 0, count\n",
    "    \n",
    "    # Simulate 100 games\n",
    "def sim_games_Minimax(num_games):\n",
    "    ai_player = MinimaxAI()\n",
    "    random_player = RandomPlayer()\n",
    "    \n",
    "    ai_wins = 0\n",
    "    random_wins = 0\n",
    "    ties = 0\n",
    "    tot_turns = 0\n",
    "    \n",
    "    for i in range(num_games):\n",
    "        result, turns = play_game_AI(ai_player, random_player)\n",
    "        tot_turns += turns\n",
    "        \n",
    "        if result == 1:\n",
    "            ai_wins += 1\n",
    "        elif result == 2:\n",
    "            random_wins += 1\n",
    "        else:\n",
    "            ties += 1\n",
    "    print(\"Minimax AI vs Random Player\\n\")\n",
    "    print(f\"AI Wins: {ai_wins}\")\n",
    "    print(f\"Random Player Wins: {random_wins}\")\n",
    "    print(f\"Ties: {ties}\")\n",
    "    print(f\"Average Turns: {tot_turns/num_games:.2f}\")\n",
    "\n",
    "def sim_games_AlphaBeta(num_games):\n",
    "    ai_player = AlphaBetaAI(5)\n",
    "    random_player = RandomPlayer()\n",
    "    \n",
    "    ai_wins = 0\n",
    "    random_wins = 0\n",
    "    ties = 0\n",
    "    tot_turns = 0\n",
    "    \n",
    "    for i in range(num_games):\n",
    "        result, turns = play_game_AI(ai_player, random_player)\n",
    "        tot_turns += turns\n",
    "        \n",
    "        if result == 1:\n",
    "            ai_wins += 1\n",
    "        elif result == 2:\n",
    "            random_wins += 1\n",
    "        else:\n",
    "            ties += 1\n",
    "    \n",
    "    print(\"Alpha-Beta AI vs Random Player\\n\")\n",
    "    print(f\"AI Wins: {ai_wins}\")\n",
    "    print(f\"Random Player Wins: {random_wins}\")\n",
    "    print(f\"Ties: {ties}\")\n",
    "    print(f\"Average Turns: {tot_turns/num_games:.2f}\")"
   ]
  },
  {
   "cell_type": "code",
   "execution_count": 6,
   "metadata": {},
   "outputs": [
    {
     "name": "stdout",
     "output_type": "stream",
     "text": [
      "Minimax AI vs Random Player\n",
      "\n",
      "AI Wins: 1\n",
      "Random Player Wins: 0\n",
      "Ties: 0\n",
      "Average Turns: 30.50\n"
     ]
    }
   ],
   "source": [
    "# 1 game with Minimax\n",
    "sim_games_Minimax(1)"
   ]
  },
  {
   "cell_type": "code",
   "execution_count": 7,
   "metadata": {},
   "outputs": [
    {
     "name": "stdout",
     "output_type": "stream",
     "text": [
      "Alpha-Beta AI vs Random Player\n",
      "\n",
      "AI Wins: 1\n",
      "Random Player Wins: 0\n",
      "Ties: 0\n",
      "Average Turns: 35.50\n"
     ]
    }
   ],
   "source": [
    "# 1 game with Alpha-Beta\n",
    "sim_games_AlphaBeta(1)"
   ]
  },
  {
   "cell_type": "code",
   "execution_count": 8,
   "metadata": {},
   "outputs": [
    {
     "name": "stdout",
     "output_type": "stream",
     "text": [
      "Minimax AI vs Random Player\n",
      "\n",
      "AI Wins: 99\n",
      "Random Player Wins: 0\n",
      "Ties: 1\n",
      "Average Turns: 37.65\n"
     ]
    }
   ],
   "source": [
    "# Simulate 100 games with Minimax AI\n",
    "sim_games_Minimax(100)"
   ]
  },
  {
   "cell_type": "code",
   "execution_count": 9,
   "metadata": {},
   "outputs": [
    {
     "name": "stdout",
     "output_type": "stream",
     "text": [
      "Alpha-Beta AI vs Random Player\n",
      "\n",
      "AI Wins: 98\n",
      "Random Player Wins: 2\n",
      "Ties: 0\n",
      "Average Turns: 37.94\n"
     ]
    }
   ],
   "source": [
    "# Simulate 100 games with AlphaBeta AI\n",
    "sim_games_AlphaBeta(100)"
   ]
  }
 ],
 "metadata": {
  "kernelspec": {
   "display_name": "Python 3",
   "language": "python",
   "name": "python3"
  },
  "language_info": {
   "codemirror_mode": {
    "name": "ipython",
    "version": 3
   },
   "file_extension": ".py",
   "mimetype": "text/x-python",
   "name": "python",
   "nbconvert_exporter": "python",
   "pygments_lexer": "ipython3",
   "version": "3.9.6"
  }
 },
 "nbformat": 4,
 "nbformat_minor": 2
}
